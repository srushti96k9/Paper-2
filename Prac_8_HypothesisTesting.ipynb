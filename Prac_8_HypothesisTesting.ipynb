{
 "cells": [
  {
   "cell_type": "code",
   "execution_count": 4,
   "metadata": {
    "executionInfo": {
     "elapsed": 1779,
     "status": "ok",
     "timestamp": 1700126130654,
     "user": {
      "displayName": "Meghana Narvekar",
      "userId": "06351379999402519709"
     },
     "user_tz": -330
    },
    "id": "X5HdX7vhaYve"
   },
   "outputs": [],
   "source": [
    "import pandas as pd\n",
    "import numpy as np\n",
    "import matplotlib.pyplot as plt\n",
    "import seaborn as sns\n",
    "import scipy.stats as stats"
   ]
  },
  {
   "cell_type": "code",
   "execution_count": 5,
   "metadata": {
    "colab": {
     "base_uri": "https://localhost:8080/"
    },
    "executionInfo": {
     "elapsed": 881,
     "status": "ok",
     "timestamp": 1700126166591,
     "user": {
      "displayName": "Meghana Narvekar",
      "userId": "06351379999402519709"
     },
     "user_tz": -330
    },
    "id": "PbXC6caPanHu",
    "outputId": "5786407b-6c76-4a50-fa51-170e028c1c7f"
   },
   "outputs": [
    {
     "name": "stdout",
     "output_type": "stream",
     "text": [
      "30.34375\n"
     ]
    }
   ],
   "source": [
    "from scipy.stats import ttest_1samp\n",
    "from statsmodels.stats.power import tt_ind_solve_power\n",
    "\n",
    "ages=[10,20,35,50,28,40,55,18,16,55,30,25,43,18,30,28,14,24,16,17,32,35,26,27,65,18,43,23,21,20,19,70]\n",
    "\n",
    "ages_mean=np.mean(ages)\n",
    "print(ages_mean)"
   ]
  },
  {
   "cell_type": "markdown",
   "metadata": {
    "id": "vFA79Bnga47d"
   },
   "source": [
    "lets take sample\n"
   ]
  },
  {
   "cell_type": "code",
   "execution_count": 3,
   "metadata": {
    "colab": {
     "base_uri": "https://localhost:8080/"
    },
    "executionInfo": {
     "elapsed": 553,
     "status": "ok",
     "timestamp": 1700126203912,
     "user": {
      "displayName": "Meghana Narvekar",
      "userId": "06351379999402519709"
     },
     "user_tz": -330
    },
    "id": "H50xKVWrawde",
    "outputId": "e3e67a68-7081-4325-c6fc-b6debbb87698"
   },
   "outputs": [
    {
     "name": "stdout",
     "output_type": "stream",
     "text": [
      "0.443274356962608\n",
      "We are accepting null hypothesis\n"
     ]
    }
   ],
   "source": [
    "sample_size=10\n",
    "age_sample=np.random.choice(ages,sample_size)\n",
    "age_sample\n",
    "\n",
    "from scipy.stats import ttest_1samp\n",
    "\n",
    "ttest,p_value=ttest_1samp(age_sample,30)\n",
    "\n",
    "print(p_value)\n",
    "\n",
    "if p_value < 0.05:\n",
    "    print(\"We are rejecting null hypothesis\")\n",
    "else:\n",
    "    print(\"We are accepting null hypothesis\")"
   ]
  },
  {
   "cell_type": "code",
   "execution_count": null,
   "metadata": {},
   "outputs": [],
   "source": []
  }
 ],
 "metadata": {
  "colab": {
   "authorship_tag": "ABX9TyOhjKH2Lsdt6GuNOtu+Hk/u",
   "provenance": []
  },
  "kernelspec": {
   "display_name": "Python 3 (ipykernel)",
   "language": "python",
   "name": "python3"
  },
  "language_info": {
   "codemirror_mode": {
    "name": "ipython",
    "version": 3
   },
   "file_extension": ".py",
   "mimetype": "text/x-python",
   "name": "python",
   "nbconvert_exporter": "python",
   "pygments_lexer": "ipython3",
   "version": "3.11.3"
  }
 },
 "nbformat": 4,
 "nbformat_minor": 1
}
